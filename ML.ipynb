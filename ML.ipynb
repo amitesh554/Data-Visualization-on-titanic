{
  "nbformat": 4,
  "nbformat_minor": 0,
  "metadata": {
    "colab": {
      "provenance": [],
      "authorship_tag": "ABX9TyOHrGR6n7bnQi4OJi4lwvi6",
      "include_colab_link": true
    },
    "kernelspec": {
      "name": "python3",
      "display_name": "Python 3"
    },
    "language_info": {
      "name": "python"
    }
  },
  "cells": [
    {
      "cell_type": "markdown",
      "metadata": {
        "id": "view-in-github",
        "colab_type": "text"
      },
      "source": [
        "<a href=\"https://colab.research.google.com/github/amitesh554/Data-Visualization-on-titanic/blob/main/ML.ipynb\" target=\"_parent\"><img src=\"https://colab.research.google.com/assets/colab-badge.svg\" alt=\"Open In Colab\"/></a>"
      ]
    },
    {
      "cell_type": "code",
      "execution_count": 3,
      "metadata": {
        "id": "T3zkO1HoUOAq"
      },
      "outputs": [],
      "source": [
        "import pandas as pd\n",
        "df=pd.read_csv(\"train.csv\")\n",
        "df_test=pd.read_csv(\"test.csv\")\n",
        "\n"
      ]
    },
    {
      "cell_type": "code",
      "source": [
        "df[\"Age\"].fillna(df[\"Age\"].median(),inplace=True)\n",
        "df[\"Embarked\"].fillna(\"S\",inplace=True)\n",
        "df[\"Fare\"].fillna(df[\"Fare\"].median(),inplace=True)"
      ],
      "metadata": {
        "id": "Nmd_WQLYU590"
      },
      "execution_count": 4,
      "outputs": []
    },
    {
      "cell_type": "code",
      "source": [
        "def get_title(name):\n",
        "    if \".\" in name:\n",
        "        return name.split(',')[1].split('.')[0].strip()\n",
        "    else:\n",
        "        return \"No title in name\"\n",
        "\n",
        "title=sorted(set([x for x in df.Name.map(lambda x:get_title(x))]))\n",
        "\n",
        "\n",
        "def shorten_title(x):\n",
        "    title=x[\"Title\"]\n",
        "    if title in ['Capt','Col','Major']:\n",
        "        return \"Officer\"\n",
        "    elif title in ['Jonkheer','Don','the Countess','Dr','Lady','Sir']:\n",
        "        return \"Royalty\"\n",
        "    elif title in 'Mme':\n",
        "        return 'Mrs'\n",
        "    elif title in ['Mlle','Ms']:\n",
        "        return \"Miss\"\n",
        "    else:\n",
        "        return title\n",
        "\n",
        "df['Title']=df['Name'].map(lambda x:get_title(x))\n",
        "df['Title']=df.apply(shorten_title,axis=1)"
      ],
      "metadata": {
        "id": "VsvszficWIHK"
      },
      "execution_count": 5,
      "outputs": []
    },
    {
      "cell_type": "code",
      "source": [
        "df.drop(\"Name\",axis=1,inplace=True)\n",
        "df.drop(\"Ticket\",axis=1,inplace=True)\n",
        "df.drop(\"Cabin\",axis=1,inplace=True)\n",
        "df.Sex.replace(('male','female'),(0,1),inplace=True)\n",
        "df.Embarked.replace(('S','C','Q'),(0,1,2),inplace=True)\n",
        "df.Title.replace(('Mr','Miss','Mrs','Master','Royalty','Rev','Officer'),(0,1,2,3,4,5,6),inplace=True)\n"
      ],
      "metadata": {
        "id": "4LdU3P4GaoSO"
      },
      "execution_count": 6,
      "outputs": []
    },
    {
      "cell_type": "code",
      "source": [
        "cor=df.corr()\n",
        "cor.Survived.sort_values(ascending=False)\n"
      ],
      "metadata": {
        "colab": {
          "base_uri": "https://localhost:8080/"
        },
        "id": "-yaybV34cDfc",
        "outputId": "120bf991-40d9-4dfb-e547-a3ae5566e72c"
      },
      "execution_count": 7,
      "outputs": [
        {
          "output_type": "execute_result",
          "data": {
            "text/plain": [
              "Survived       1.000000\n",
              "Sex            0.543351\n",
              "Title          0.377715\n",
              "Fare           0.257307\n",
              "Embarked       0.106811\n",
              "Parch          0.081629\n",
              "PassengerId   -0.005007\n",
              "SibSp         -0.035322\n",
              "Age           -0.064910\n",
              "Pclass        -0.338481\n",
              "Name: Survived, dtype: float64"
            ]
          },
          "metadata": {},
          "execution_count": 7
        }
      ]
    },
    {
      "cell_type": "code",
      "source": [
        "from sklearn.model_selection import train_test_split\n",
        "\n",
        "x=df.drop(['Survived','PassengerId'],axis=1)\n",
        "y=df['Survived']\n",
        "\n",
        "x_train,x_val,y_train,y_val=train_test_split(x,y,test_size=0.1)"
      ],
      "metadata": {
        "id": "96oh4oniifS8"
      },
      "execution_count": 8,
      "outputs": []
    },
    {
      "cell_type": "code",
      "source": [
        "import pickle\n",
        "from sklearn.ensemble import RandomForestClassifier\n",
        "from sklearn.metrics import accuracy_score\n",
        "\n",
        "randomforest=RandomForestClassifier()\n",
        "randomforest.fit(x_train,y_train)\n",
        "\n",
        "y_pred=randomforest.predict(x_val)\n",
        "\n",
        "acc_randomfor=round(accuracy_score(y_pred,y_val)*100,2)\n",
        "\n",
        "print(acc_randomfor)\n",
        "\n",
        "pickle.dump(randomforest,open('titanic_model.sav','wb'))"
      ],
      "metadata": {
        "colab": {
          "base_uri": "https://localhost:8080/"
        },
        "id": "Up3A5vXBinK_",
        "outputId": "5dca22b0-de1c-484e-f64a-21617158e65f"
      },
      "execution_count": 9,
      "outputs": [
        {
          "output_type": "stream",
          "name": "stdout",
          "text": [
            "81.11\n"
          ]
        }
      ]
    },
    {
      "cell_type": "code",
      "source": [
        "df_test=pd.read_csv(\"test.csv\")\n",
        "df_test['Title']=df_test['Name'].map(lambda x:get_title(x))\n",
        "df_test['Title']=df_test.apply(shorten_title,axis=1)\n",
        "\n",
        "ids=df_test['PassengerId']\n",
        "\n",
        "df_test['Age'].fillna(df_test['Age'].median(),inplace=True)\n",
        "df_test['Embarked'].fillna(\"S\",inplace=True)\n",
        "df_test['Fare'].fillna(df_test['Fare'].median(),inplace=True)\n",
        "\n",
        "df_test.drop(\"Name\",axis=1,inplace=True)\n",
        "df_test.drop(\"Ticket\",axis=1,inplace=True)\n",
        "df_test.drop(\"Cabin\",axis=1,inplace=True)\n",
        "df_test.drop(\"PassengerId\",axis=1,inplace=True)\n",
        "\n",
        "df_test.Sex.replace(('male','female'),(0,1),inplace=True)\n",
        "df_test.Embarked.replace(('S','C','Q'),(0,1,2),inplace=True)\n",
        "df_test.Title.replace(('Mr','Miss','Mrs','Master','Royalty','Rev','Officer','Dona'),(0,1,2,3,4,5,6,7),inplace=True)\n"
      ],
      "metadata": {
        "id": "wxe7FSUquxra"
      },
      "execution_count": 10,
      "outputs": []
    },
    {
      "cell_type": "code",
      "source": [
        "predictions=randomforest.predict(df_test)\n",
        "output=pd.DataFrame({\"PassengerId\":ids,\"Survived\":predictions})\n",
        "output.to_csv(\"Submission.csv\",index=False)\n",
        "\n"
      ],
      "metadata": {
        "id": "27pIv4ufnxwm"
      },
      "execution_count": 11,
      "outputs": []
    }
  ]
}